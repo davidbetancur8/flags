{
 "cells": [
  {
   "cell_type": "code",
   "execution_count": 5,
   "metadata": {},
   "outputs": [],
   "source": [
    "from gen_data import get_flags, get_avg\n",
    "import json"
   ]
  },
  {
   "cell_type": "markdown",
   "metadata": {},
   "source": [
    "<h3> Carga de datos </h3>\n",
    "Primero se llama a la funcion get_flags que lo que hace es que primero va a la pagina de wikipedia de ISO 3166-1 alpha-2 y recupera los datos de la tabla donde esta cada nombre del pais junto con su codigo alpha 2.\n",
    "Utilizando estos codigos se llaman las banderas de la api countryflags.io con ayuda de la libreria PILLOW. Se obtiene un array entonces con los valores RGBA de cada pixel de cada bandera de cada pais. Dentro de gen_data() esta explicado con detalle el procesamiento de estos datos para la obtencion final del df"
   ]
  },
  {
   "cell_type": "code",
   "execution_count": 3,
   "metadata": {},
   "outputs": [
    {
     "name": "stderr",
     "output_type": "stream",
     "text": [
      "/home/david336/Documents/Master/visua/flags/python_flags/gen_data.py:16: UserWarning: No parser was explicitly specified, so I'm using the best available HTML parser for this system (\"html.parser\"). This usually isn't a problem, but if you run this code on another system, or in a different virtual environment, it may use a different parser and behave differently.\n",
      "\n",
      "The code that caused this warning is on line 16 of the file /home/david336/Documents/Master/visua/flags/python_flags/gen_data.py. To get rid of this warning, pass the additional argument 'features=\"html.parser\"' to the BeautifulSoup constructor.\n",
      "\n",
      "  soup = BeautifulSoup(r.content)\n"
     ]
    },
    {
     "name": "stdout",
     "output_type": "stream",
     "text": [
      "AD AE AF AG AI AL AM AO AQ AR AS AT AU AW AX AZ BA BB BD BE BF BG BH BI BJ BL BM BN BO BQ BR BS BT BV BW BY BZ CA CC CD CF CG CH CI CK CL CM CN CO CR CU CV CW CX CY CZ DE DJ DK DM DO DZ EC EE EG EH ER ES ET FI FJ FK FM FO FR GA GB GD GE GF GG GH GI GL GM GN GP GQ GR GS GT GU GW GY HK HM HN HR HT HU ID IE IL IM IN IO IQ IR IS IT JE JM JO JP KE KG KH KI KM KN KP KR KW KY KZ LA LB LC LI LK LR LS LT LU LV LY MA MC MD ME MF MG MH MK ML MM MN MO MP MQ MR MS MT MU MV MW MX MY MZ NA NC NE NF NG NI NL NO NP NR NU NZ OM PA PE PF PG PH PK PL PM PN PR PS PT PW PY QA RE RO RS RU RW SA SB SC SD SE SG SH SI SJ SK SL SM SN SO SR SS ST SV SX SY SZ TC TD TF TG TH TJ TK TL TM TN TO TR TT TV TW TZ UA UG UM US UY UZ VA VC VE VG VI VN VU WF WS YE YT ZA ZM ZW "
     ]
    }
   ],
   "source": [
    "df_flags = get_flags()\n",
    "df_flags.to_pickle(\"flags.pkl\")"
   ]
  },
  {
   "cell_type": "markdown",
   "metadata": {},
   "source": [
    "<h3> Obtecion de diccionarios para utilizar en la visualización dinámica </h3>\n",
    "Se explica dentro de cada funcion en gen data como se obtuvieron estos diccionarios\n",
    "Estos diccionarios luego se llevan a la parte web y se modifican de .json a .js y se les asigna una variable para poder ser usados despues en el Script."
   ]
  },
  {
   "cell_type": "code",
   "execution_count": 6,
   "metadata": {},
   "outputs": [],
   "source": [
    "df_avg, df_name_alpha2 = get_avg(df_flags)\n",
    "\n",
    "df_avg = df_avg.iloc[:,0]\n",
    "json_avg = json.loads(df_avg.to_json(orient=\"columns\"))\n",
    "with open('flags_avg.json', 'w') as outfile:\n",
    "    json.dump(json_avg, outfile)\n",
    "\n",
    "\n",
    "json_alpha2 = json.loads(df_name_alpha2.to_json(orient=\"columns\"))\n",
    "with open('name_alpha2.json', 'w') as outfile:\n",
    "    json.dump(json_alpha2, outfile)"
   ]
  }
 ],
 "metadata": {
  "kernelspec": {
   "display_name": "Python 3",
   "language": "python",
   "name": "python3"
  },
  "language_info": {
   "codemirror_mode": {
    "name": "ipython",
    "version": 3
   },
   "file_extension": ".py",
   "mimetype": "text/x-python",
   "name": "python",
   "nbconvert_exporter": "python",
   "pygments_lexer": "ipython3",
   "version": "3.6.7"
  }
 },
 "nbformat": 4,
 "nbformat_minor": 2
}
